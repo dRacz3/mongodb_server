{
 "cells": [
  {
   "cell_type": "code",
   "execution_count": 2,
   "metadata": {},
   "outputs": [],
   "source": [
    "import pandas as pd\n",
    "import numpy as np\n",
    "import random "
   ]
  },
  {
   "cell_type": "code",
   "execution_count": 50,
   "metadata": {},
   "outputs": [],
   "source": [
    "names = pd.read_csv('initial_babynames.csv', sep=',')\n",
    "   \n",
    "my_randoms=[]    \n",
    "for i in range (len(names.name)):    \n",
    "    my_randoms.append(random.randrange(10,99,1))    \n",
    "    \n",
    "names['age'] = my_randoms\n",
    "names = names.drop(['percent', 'year'], axis = 1)\n",
    "names['sex'] = names['sex'].replace(\"boy\", \"male\")\n",
    "names['sex'] = names['sex'].replace(\"girl\", \"female\")\n",
    "names = names[['name', 'age', 'sex']]\n",
    "\n",
    "#pick 10k random names\n",
    "head = names.sample(frac=1).head(10000)"
   ]
  },
  {
   "cell_type": "code",
   "execution_count": 53,
   "metadata": {},
   "outputs": [],
   "source": [
    "#create complete dump\n",
    "names.to_csv(\"database.csv\")\n",
    "names.to_json(\"database.json\", orient = 'index')\n",
    "#create shortened dump for testing\n",
    "head.to_csv(\"short_data.csv\")\n",
    "head.to_json(\"short_data.json\", orient = 'records')"
   ]
  },
  {
   "cell_type": "code",
   "execution_count": null,
   "metadata": {},
   "outputs": [],
   "source": []
  },
  {
   "cell_type": "code",
   "execution_count": null,
   "metadata": {},
   "outputs": [],
   "source": []
  },
  {
   "cell_type": "code",
   "execution_count": null,
   "metadata": {},
   "outputs": [],
   "source": []
  }
 ],
 "metadata": {
  "kernelspec": {
   "display_name": "Python 3",
   "language": "python",
   "name": "python3"
  },
  "language_info": {
   "codemirror_mode": {
    "name": "ipython",
    "version": 3
   },
   "file_extension": ".py",
   "mimetype": "text/x-python",
   "name": "python",
   "nbconvert_exporter": "python",
   "pygments_lexer": "ipython3",
   "version": "3.6.2"
  }
 },
 "nbformat": 4,
 "nbformat_minor": 2
}
