{
 "cells": [
  {
   "cell_type": "code",
   "execution_count": 46,
   "metadata": {},
   "outputs": [],
   "source": [
    "import pandas as pd\n",
    "import numpy as np\n",
    "import random "
   ]
  },
  {
   "cell_type": "code",
   "execution_count": 79,
   "metadata": {},
   "outputs": [],
   "source": [
    "names = pd.read_csv('mongo/babynames.csv', sep=',')\n",
    "   \n",
    "my_randoms=[]    \n",
    "for i in range (len(names.name)):    \n",
    "    my_randoms.append(random.randrange(10,99,1))    \n",
    "    \n",
    "names['Age'] = my_randoms\n",
    "names = names.drop(['percent', 'year'], axis = 1)\n",
    "names['sex'] = names['sex'].replace(\"boy\", \"male\")\n",
    "names['sex'] = names['sex'].replace(\"girl\", \"female\")"
   ]
  },
  {
   "cell_type": "code",
   "execution_count": 83,
   "metadata": {},
   "outputs": [],
   "source": [
    "names.to_csv(\"database.csv\")\n",
    "names.to_json(\"database.json\")"
   ]
  },
  {
   "cell_type": "code",
   "execution_count": 77,
   "metadata": {},
   "outputs": [],
   "source": []
  },
  {
   "cell_type": "code",
   "execution_count": 81,
   "metadata": {},
   "outputs": [
    {
     "data": {
      "text/plain": [
       "<bound method NDFrame.describe of               name   sex  Age\n",
       "0             John  male   69\n",
       "1          William  male   83\n",
       "2            James  male   19\n",
       "3          Charles  male   22\n",
       "4           George  male   98\n",
       "5            Frank  male   55\n",
       "6           Joseph  male   31\n",
       "7           Thomas  male   58\n",
       "8            Henry  male   21\n",
       "9           Robert  male   31\n",
       "10          Edward  male   90\n",
       "11           Harry  male   63\n",
       "12          Walter  male   41\n",
       "13          Arthur  male   66\n",
       "14            Fred  male   12\n",
       "15          Albert  male   38\n",
       "16          Samuel  male   39\n",
       "17           David  male   98\n",
       "18           Louis  male   18\n",
       "19             Joe  male   95\n",
       "20         Charlie  male   81\n",
       "21        Clarence  male   12\n",
       "22         Richard  male   35\n",
       "23          Andrew  male   73\n",
       "24          Daniel  male   90\n",
       "25          Ernest  male   56\n",
       "26            Will  male   60\n",
       "27           Jesse  male   30\n",
       "28           Oscar  male   74\n",
       "29           Lewis  male   58\n",
       "...            ...   ...  ...\n",
       "120939        Isai  male   44\n",
       "120940        Kian  male   68\n",
       "120941     Rasheed  male   75\n",
       "120942      Blaise  male   53\n",
       "120943      Brodie  male   64\n",
       "120944      Donnie  male   38\n",
       "120945      Isidro  male   59\n",
       "120946      Jaeden  male   68\n",
       "120947      Javion  male   92\n",
       "120948      Jimmie  male   23\n",
       "120949     Johnnie  male   73\n",
       "120950     Kennedy  male   76\n",
       "120951      Paxton  male   96\n",
       "120952     Tyrique  male   24\n",
       "120953     Andreas  male   93\n",
       "120954    Augustus  male   80\n",
       "120955       Jalon  male   63\n",
       "120956       Jamir  male   35\n",
       "120957    Valentin  male   58\n",
       "120958      Korbin  male   54\n",
       "120959      Lawson  male   83\n",
       "120960        Fred  male   34\n",
       "120961     Herbert  male   40\n",
       "120962       Maxim  male   30\n",
       "120963       Bruno  male   20\n",
       "120964     Donavon  male   36\n",
       "120965     Javonte  male   32\n",
       "120966  Alexzander  male   11\n",
       "120967         Ean  male   22\n",
       "120968      Kamren  male   53\n",
       "\n",
       "[120969 rows x 3 columns]>"
      ]
     },
     "execution_count": 81,
     "metadata": {},
     "output_type": "execute_result"
    }
   ],
   "source": [
    "names.describe"
   ]
  },
  {
   "cell_type": "code",
   "execution_count": null,
   "metadata": {},
   "outputs": [],
   "source": []
  }
 ],
 "metadata": {
  "kernelspec": {
   "display_name": "Python 3",
   "language": "python",
   "name": "python3"
  },
  "language_info": {
   "codemirror_mode": {
    "name": "ipython",
    "version": 3
   },
   "file_extension": ".py",
   "mimetype": "text/x-python",
   "name": "python",
   "nbconvert_exporter": "python",
   "pygments_lexer": "ipython3",
   "version": "3.6.2"
  }
 },
 "nbformat": 4,
 "nbformat_minor": 2
}
